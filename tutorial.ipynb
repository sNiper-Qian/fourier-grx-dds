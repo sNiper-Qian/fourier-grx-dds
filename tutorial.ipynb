{
 "cells": [
  {
   "cell_type": "markdown",
   "metadata": {},
   "source": [
    "# Getting Started\n",
    "Install dependencies and import necessary libraries."
   ]
  },
  {
   "cell_type": "code",
   "execution_count": null,
   "metadata": {},
   "outputs": [
    {
     "data": {
      "text/plain": [
       "Traceback (most recent call last):\n",
       "  File \"/home/len9/.vscode/extensions/ms-python.python-2024.21.2024111901-linux-x64/python_files/python_server.py\", line 130, in exec_user_input\n",
       "    retval = callable_(user_input, user_globals)\n",
       "             ^^^^^^^^^^^^^^^^^^^^^^^^^^^^^^^^^^^\n",
       "  File \"<string>\", line 1\n",
       "    % pip install fourier-grx-dds\n",
       "    ^\n",
       "SyntaxError: invalid syntax\n",
       "\n"
      ]
     },
     "metadata": {},
     "output_type": "display_data"
    }
   ],
   "source": [
    "! pip install fourier-grx-dds"
   ]
  },
  {
   "cell_type": "code",
   "execution_count": null,
   "metadata": {},
   "outputs": [],
   "source": [
    "import argparse\n",
    "from robot_control.utils import GR1ControlGroup\n",
    "from robot_control.controller import RobotController\n",
    "import time"
   ]
  },
  {
   "cell_type": "markdown",
   "metadata": {},
   "source": [
    "## Start the DDS bridge\n",
    "DDS bridge serves as a communication bridge between motors and controller. To control the robot, you need to follow these steps:\n",
    "    1. Place the robot in an appropriate position, especially the arms, and switch on the E-stop\n",
    "    2. Start the DDS bridge on the machine that controls the robot by running the following cammand:"
   ]
  },
  {
   "cell_type": "code",
   "execution_count": null,
   "metadata": {},
   "outputs": [],
   "source": [
    "! BRIDGE_CONFIG_FILE=configs/dds/config.gr1.json ./robot_control/bin/fftai_dds_bridge"
   ]
  },
  {
   "cell_type": "markdown",
   "metadata": {},
   "source": [
    "Replace `configs/dds.config.gr1.json` with the path to your configuration file for DDS bridge. Default configuration files are provided under 'config/dds' directory. The configuration file defines the communication topics and IP addresses of motors. \n",
    "\n",
    "Normally, there is no need to modify the default configuration."
   ]
  },
  {
   "cell_type": "markdown",
   "metadata": {},
   "source": [
    "# Calibration\n",
    "Before start controlling a new robot, you have to firstly calibrate the motor encoders by running the following command. Please note that, you only need to do the calibration once, as long as the calibration results are saved:"
   ]
  },
  {
   "cell_type": "code",
   "execution_count": null,
   "metadata": {},
   "outputs": [],
   "source": [
    "! python examples/calibrate --config configs/encoders_state.yaml"
   ]
  },
  {
   "cell_type": "markdown",
   "metadata": {},
   "source": [
    "Replace `configs/encoders_state.yaml` with the path to your own configuration file that stores the encoder states. The calibration process will save the motor calibration values to this file."
   ]
  },
  {
   "cell_type": "markdown",
   "metadata": {},
   "source": [
    "# Start the controller\n",
    "After successfully calibrating the robot, you can start the controller."
   ]
  },
  {
   "cell_type": "code",
   "execution_count": null,
   "metadata": {},
   "outputs": [],
   "source": [
    "config_path = \"configs/gr1_upper_body.yaml\"\n",
    "controller = RobotController(config_path)"
   ]
  },
  {
   "cell_type": "markdown",
   "metadata": {},
   "source": [
    "Replace config_path with the path to your config file for controller. We provide three example configuration files for controlling upper body, lower body and whole body, respectively. To customize configuration file:\n",
    "    1. Replace the `encoders_state_path` with the one of your own.\n",
    "    2. Change `enable` of joints to enable or disable different joints.\n",
    "    3. Replace `urdf_path` and `urdf_package_dirs` with the paths to the urdf file of the robot and its parent folder."
   ]
  },
  {
   "cell_type": "markdown",
   "metadata": {},
   "source": [
    "To enable the motors:"
   ]
  },
  {
   "cell_type": "code",
   "execution_count": null,
   "metadata": {},
   "outputs": [],
   "source": [
    "controller.enable()"
   ]
  },
  {
   "cell_type": "markdown",
   "metadata": {},
   "source": [
    "To control the robot given joint positions:"
   ]
  },
  {
   "cell_type": "code",
   "execution_count": null,
   "metadata": {},
   "outputs": [],
   "source": [
    "# Move both arms to a specific position\n",
    "left_arm_position = [\n",
    "                        -0.10834163755741072, -0.07329939774949822, 0.06528929994794762, \n",
    "                        -1.4866168673727456, -0.15687147335078633, -0.13071683482883256, \n",
    "                        -0.17893611111972085  \n",
    "                    ] \n",
    "right_arm_position = [\n",
    "                        0.10834163755741072, -0.07329939774949822, 0.06528929994794762, \n",
    "                        -1.4866168673727456, -0.15687147335078633, -0.13071683482883256, \n",
    "                        0.17893611111972085  \n",
    "                    ]\n",
    "arm_position = left_arm_position + right_arm_position\n",
    "controller.move_joints(GR1ControlGroup.UPPER, arm_position, duration=2.0)  "
   ]
  },
  {
   "cell_type": "markdown",
   "metadata": {},
   "source": [
    "To calculate forward kinematics:"
   ]
  },
  {
   "cell_type": "code",
   "execution_count": null,
   "metadata": {},
   "outputs": [],
   "source": [
    "# Perform forward kinematics and get the SE3 representation of the end effectors\n",
    "res = controller.forward_kinematics(chain_names=[\"left_arm\", \"right_arm\"])\n",
    "print(\"SE3 of left ee:\", res[0])\n",
    "print(\"SE3 of right ee:\", res[1])"
   ]
  },
  {
   "cell_type": "markdown",
   "metadata": {},
   "source": [
    "To calculate inverse kinematics and move the joints to the target positions:"
   ]
  },
  {
   "cell_type": "code",
   "execution_count": null,
   "metadata": {},
   "outputs": [],
   "source": [
    " # Perform inverse kinematics and move the arms to the calculated position\n",
    "controller.move_joints(GR1ControlGroup.UPPER, [0.0]*14, duration=2.0)\n",
    "controller.inverse_kinematics([\"left_arm\", \"right_arm\"], res, move=True, velocity_scaling_factor=0.1)"
   ]
  },
  {
   "cell_type": "markdown",
   "metadata": {},
   "source": [
    "To set gains of motors:"
   ]
  },
  {
   "cell_type": "code",
   "execution_count": null,
   "metadata": {},
   "outputs": [],
   "source": [
    "# Set the gains of the right elbow pitch joint to 0\n",
    "# It is now supposed to be a free joint\n",
    "controller.set_gains([0], [0], [0], joint_names=[\"right_elbow_pitch_joint\"])"
   ]
  },
  {
   "cell_type": "markdown",
   "metadata": {},
   "source": [
    "To disable motors:"
   ]
  },
  {
   "cell_type": "code",
   "execution_count": null,
   "metadata": {},
   "outputs": [],
   "source": [
    "controller.disable()"
   ]
  },
  {
   "cell_type": "markdown",
   "metadata": {},
   "source": [
    "To end the control process:"
   ]
  },
  {
   "cell_type": "code",
   "execution_count": null,
   "metadata": {},
   "outputs": [],
   "source": [
    "controller.end()"
   ]
  }
 ],
 "metadata": {
  "language_info": {
   "name": "python"
  }
 },
 "nbformat": 4,
 "nbformat_minor": 2
}
